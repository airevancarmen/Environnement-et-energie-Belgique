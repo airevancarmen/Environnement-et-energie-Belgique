{
 "cells": [
  {
   "cell_type": "markdown",
   "metadata": {},
   "source": [
    "# Energie et environment en Belgique\n",
    "\n",
    "Le dataset est tiré d'un site web gouvernemental:: http://ibsa.brussels/themes/environnement-et-energie?set_language=fr#.XHfBHuhKhXw \n",
    "\n",
    "Les données rassemblées ici portent sur le climat, la qualité de l’air, la consommation et la qualité de l’eau, les collectes de déchets, les espaces verts, la biodiversité, la consommation énergétique, etc."
   ]
  },
  {
   "cell_type": "code",
   "execution_count": 1,
   "metadata": {},
   "outputs": [],
   "source": [
    "import pandas as pd \n",
    "import numpy as np\n",
    "import seaborn as sns \n",
    "\n",
    "import matplotlib.pyplot as plt\n",
    "FIGSIZE = (12.0, 5.0)\n",
    "plt.rcParams['figure.figsize'] = (12.0, 5.0)\n",
    "\n",
    "pd.options.display.max_rows = 55\n",
    "pd.options.display.max_colwidth = 500"
   ]
  },
  {
   "cell_type": "code",
   "execution_count": 2,
   "metadata": {},
   "outputs": [],
   "source": [
    "link1 = '12.1_environnement_energie_environnement_territoire_20180220.xlsx'\n",
    "link2 = '12.2_environnement_energie_environnement_societe_20180829.xlsx'\n",
    "link3 = '12.3_environnement_energie_energie_20180829.xlsx'"
   ]
  },
  {
   "cell_type": "markdown",
   "metadata": {},
   "source": [
    "## Qualité de l'air en Bruxelles-Capitale 2005-2017"
   ]
  },
  {
   "cell_type": "markdown",
   "metadata": {},
   "source": [
    "- Unités : microgrammes par mètre cube, heures\\nÉchelle géographique : station de mesure\\nSource : Bruxelles Environnement\n",
    "- : = Non disponible (mesures non effectuées ou non fiables)\n",
    "- x : Non existant (nouvelle station de mesure en 2013)\n",
    "- c : Confidentiel (non communiqué)\n",
    "- a1 : Valeur limite de 40 µg/m3 en tant que concentration moyenne annuelle à ne pas dépasser (à partir de 2010)\n",
    "- a2 : Valeur limite de 200 µg/m3 en tant que valeur horaire, à ne pas dépasser plus de 18 fois par an (à partir de 2010)"
   ]
  },
  {
   "cell_type": "markdown",
   "metadata": {},
   "source": [
    "#### Dataframes\n",
    "\n",
    "- 1 concentrations en dioxyde d'azote (NO2)\n",
    "- 2 concentrations en ozone (O3) \n",
    "- 3 concentrations en particules en suspension de diamètre inférieur à 10 µm \n",
    "- 4 concentrations en particules en suspension de diamètre inférieur à 2,5 µm "
   ]
  },
  {
   "cell_type": "code",
   "execution_count": 12,
   "metadata": {},
   "outputs": [],
   "source": [
    "xl = pd.ExcelFile(link1)\n",
    "#print(xl.sheet_names)\n",
    "\n",
    "df1 = xl.parse(sheet_name= '12.1.1.2', header=1) #NO2\n",
    "df2 = xl.parse(sheet_name= '12.1.1.3', header=1) #O3\n",
    "df3 = xl.parse(sheet_name= '12.1.1.4', header=1) #particles <10µm \n",
    "df4 = xl.parse(sheet_name= '12.1.1.5', header=1) #particles <2,5µm "
   ]
  },
  {
   "cell_type": "code",
   "execution_count": 13,
   "metadata": {},
   "outputs": [
    {
     "data": {
      "text/html": [
       "<div>\n",
       "<style scoped>\n",
       "    .dataframe tbody tr th:only-of-type {\n",
       "        vertical-align: middle;\n",
       "    }\n",
       "\n",
       "    .dataframe tbody tr th {\n",
       "        vertical-align: top;\n",
       "    }\n",
       "\n",
       "    .dataframe thead th {\n",
       "        text-align: right;\n",
       "    }\n",
       "</style>\n",
       "<table border=\"1\" class=\"dataframe\">\n",
       "  <thead>\n",
       "    <tr style=\"text-align: right;\">\n",
       "      <th></th>\n",
       "      <th>Année</th>\n",
       "      <th>Molenbeek (R001)</th>\n",
       "      <th>Ixelles\n",
       "(R002)</th>\n",
       "      <th>Ste-Catherine (B004)</th>\n",
       "      <th>Eastman-Belliard (B005)</th>\n",
       "      <th>Parlement européen (B006)</th>\n",
       "      <th>Belliard Remard (B008)</th>\n",
       "      <th>Berchem-Ste-Agathe (B011)</th>\n",
       "      <th>Uccle\n",
       "(R012)</th>\n",
       "      <th>Haren\n",
       "(N043)</th>\n",
       "      <th>Parc Meudon (MEU1)</th>\n",
       "      <th>Woluwe \n",
       "St-Lambert (WOL1)</th>\n",
       "      <th>Forest\n",
       "(E013)</th>\n",
       "    </tr>\n",
       "  </thead>\n",
       "  <tbody>\n",
       "    <tr>\n",
       "      <th>Concentration moyenne annuelle (µg/m3)</th>\n",
       "      <td>2005.0</td>\n",
       "      <td>47.0</td>\n",
       "      <td>58.0</td>\n",
       "      <td>43</td>\n",
       "      <td>40</td>\n",
       "      <td>38</td>\n",
       "      <td>:x</td>\n",
       "      <td>32.0</td>\n",
       "      <td>27.0</td>\n",
       "      <td>46.0</td>\n",
       "      <td>32</td>\n",
       "      <td>44.0</td>\n",
       "      <td>34</td>\n",
       "    </tr>\n",
       "    <tr>\n",
       "      <th>Part des jours &gt; 40 µg/m3 (%)a1</th>\n",
       "      <td>2005.0</td>\n",
       "      <td>63.3</td>\n",
       "      <td>81.1</td>\n",
       "      <td>47.4</td>\n",
       "      <td>44.7</td>\n",
       "      <td>40.5</td>\n",
       "      <td>:x</td>\n",
       "      <td>24.1</td>\n",
       "      <td>15.1</td>\n",
       "      <td>61.1</td>\n",
       "      <td>27.9</td>\n",
       "      <td>49.0</td>\n",
       "      <td>29.9</td>\n",
       "    </tr>\n",
       "    <tr>\n",
       "      <th>Nombre d'heures &gt; 200 µg/m3 (heures)a2</th>\n",
       "      <td>2005.0</td>\n",
       "      <td>0.0</td>\n",
       "      <td>0.0</td>\n",
       "      <td>1</td>\n",
       "      <td>0</td>\n",
       "      <td>0</td>\n",
       "      <td>:x</td>\n",
       "      <td>0.0</td>\n",
       "      <td>0.0</td>\n",
       "      <td>0.0</td>\n",
       "      <td>0</td>\n",
       "      <td>0.0</td>\n",
       "      <td>0</td>\n",
       "    </tr>\n",
       "    <tr>\n",
       "      <th>Concentration moyenne annuelle (µg/m3)</th>\n",
       "      <td>2006.0</td>\n",
       "      <td>47.0</td>\n",
       "      <td>54.0</td>\n",
       "      <td>:</td>\n",
       "      <td>39</td>\n",
       "      <td>38</td>\n",
       "      <td>:x</td>\n",
       "      <td>29.0</td>\n",
       "      <td>30.0</td>\n",
       "      <td>45.0</td>\n",
       "      <td>31</td>\n",
       "      <td>46.0</td>\n",
       "      <td>32</td>\n",
       "    </tr>\n",
       "    <tr>\n",
       "      <th>Part des jours &gt; 40 µg/m3 (%)a1</th>\n",
       "      <td>2006.0</td>\n",
       "      <td>58.6</td>\n",
       "      <td>77.8</td>\n",
       "      <td>:</td>\n",
       "      <td>41.9</td>\n",
       "      <td>38.1</td>\n",
       "      <td>:x</td>\n",
       "      <td>18.4</td>\n",
       "      <td>17.5</td>\n",
       "      <td>53.7</td>\n",
       "      <td>23.3</td>\n",
       "      <td>56.4</td>\n",
       "      <td>20.3</td>\n",
       "    </tr>\n",
       "  </tbody>\n",
       "</table>\n",
       "</div>"
      ],
      "text/plain": [
       "                                         Année  Molenbeek (R001)  \\\n",
       "Concentration moyenne annuelle (µg/m3)  2005.0              47.0   \n",
       "Part des jours > 40 µg/m3 (%)a1         2005.0              63.3   \n",
       "Nombre d'heures > 200 µg/m3 (heures)a2  2005.0               0.0   \n",
       "Concentration moyenne annuelle (µg/m3)  2006.0              47.0   \n",
       "Part des jours > 40 µg/m3 (%)a1         2006.0              58.6   \n",
       "\n",
       "                                        Ixelles\\n(R002) Ste-Catherine (B004)  \\\n",
       "Concentration moyenne annuelle (µg/m3)             58.0                   43   \n",
       "Part des jours > 40 µg/m3 (%)a1                    81.1                 47.4   \n",
       "Nombre d'heures > 200 µg/m3 (heures)a2              0.0                    1   \n",
       "Concentration moyenne annuelle (µg/m3)             54.0                    :   \n",
       "Part des jours > 40 µg/m3 (%)a1                    77.8                    :   \n",
       "\n",
       "                                       Eastman-Belliard (B005)  \\\n",
       "Concentration moyenne annuelle (µg/m3)                      40   \n",
       "Part des jours > 40 µg/m3 (%)a1                           44.7   \n",
       "Nombre d'heures > 200 µg/m3 (heures)a2                       0   \n",
       "Concentration moyenne annuelle (µg/m3)                      39   \n",
       "Part des jours > 40 µg/m3 (%)a1                           41.9   \n",
       "\n",
       "                                       Parlement européen (B006)  \\\n",
       "Concentration moyenne annuelle (µg/m3)                        38   \n",
       "Part des jours > 40 µg/m3 (%)a1                             40.5   \n",
       "Nombre d'heures > 200 µg/m3 (heures)a2                         0   \n",
       "Concentration moyenne annuelle (µg/m3)                        38   \n",
       "Part des jours > 40 µg/m3 (%)a1                             38.1   \n",
       "\n",
       "                                       Belliard Remard (B008)  \\\n",
       "Concentration moyenne annuelle (µg/m3)                     :x   \n",
       "Part des jours > 40 µg/m3 (%)a1                            :x   \n",
       "Nombre d'heures > 200 µg/m3 (heures)a2                     :x   \n",
       "Concentration moyenne annuelle (µg/m3)                     :x   \n",
       "Part des jours > 40 µg/m3 (%)a1                            :x   \n",
       "\n",
       "                                        Berchem-Ste-Agathe (B011)  \\\n",
       "Concentration moyenne annuelle (µg/m3)                       32.0   \n",
       "Part des jours > 40 µg/m3 (%)a1                              24.1   \n",
       "Nombre d'heures > 200 µg/m3 (heures)a2                        0.0   \n",
       "Concentration moyenne annuelle (µg/m3)                       29.0   \n",
       "Part des jours > 40 µg/m3 (%)a1                              18.4   \n",
       "\n",
       "                                        Uccle\\n(R012)  Haren\\n(N043)  \\\n",
       "Concentration moyenne annuelle (µg/m3)           27.0           46.0   \n",
       "Part des jours > 40 µg/m3 (%)a1                  15.1           61.1   \n",
       "Nombre d'heures > 200 µg/m3 (heures)a2            0.0            0.0   \n",
       "Concentration moyenne annuelle (µg/m3)           30.0           45.0   \n",
       "Part des jours > 40 µg/m3 (%)a1                  17.5           53.7   \n",
       "\n",
       "                                       Parc Meudon (MEU1)  \\\n",
       "Concentration moyenne annuelle (µg/m3)                 32   \n",
       "Part des jours > 40 µg/m3 (%)a1                      27.9   \n",
       "Nombre d'heures > 200 µg/m3 (heures)a2                  0   \n",
       "Concentration moyenne annuelle (µg/m3)                 31   \n",
       "Part des jours > 40 µg/m3 (%)a1                      23.3   \n",
       "\n",
       "                                        Woluwe \\nSt-Lambert (WOL1)  \\\n",
       "Concentration moyenne annuelle (µg/m3)                        44.0   \n",
       "Part des jours > 40 µg/m3 (%)a1                               49.0   \n",
       "Nombre d'heures > 200 µg/m3 (heures)a2                         0.0   \n",
       "Concentration moyenne annuelle (µg/m3)                        46.0   \n",
       "Part des jours > 40 µg/m3 (%)a1                               56.4   \n",
       "\n",
       "                                       Forest\\n(E013)  \n",
       "Concentration moyenne annuelle (µg/m3)             34  \n",
       "Part des jours > 40 µg/m3 (%)a1                  29.9  \n",
       "Nombre d'heures > 200 µg/m3 (heures)a2              0  \n",
       "Concentration moyenne annuelle (µg/m3)             32  \n",
       "Part des jours > 40 µg/m3 (%)a1                  20.3  "
      ]
     },
     "execution_count": 13,
     "metadata": {},
     "output_type": "execute_result"
    }
   ],
   "source": [
    "df1.head()"
   ]
  },
  {
   "cell_type": "code",
   "execution_count": 43,
   "metadata": {
    "collapsed": true
   },
   "outputs": [
    {
     "data": {
      "text/plain": [
       "0     :x\n",
       "1     :x\n",
       "2     :x\n",
       "3     :x\n",
       "4     :x\n",
       "5     :x\n",
       "6     :x\n",
       "7     :x\n",
       "8     :x\n",
       "9     :x\n",
       "10    :x\n",
       "11    :x\n",
       "12    :x\n",
       "13    :x\n",
       "14    :x\n",
       "15    :x\n",
       "16    :x\n",
       "17    :x\n",
       "18    :x\n",
       "19    :x\n",
       "20    :x\n",
       "21    :x\n",
       "22    :x\n",
       "23    :x\n",
       "24    63\n",
       "25    84\n",
       "26     5\n",
       "27    61\n",
       "28    83\n",
       "29     3\n",
       "30    62\n",
       "31    78\n",
       "32     9\n",
       "33    :c\n",
       "34    :c\n",
       "35    :c\n",
       "36    :c\n",
       "37    :c\n",
       "38    :c\n",
       "Name: Belliard Remard (B008), dtype: object"
      ]
     },
     "execution_count": 43,
     "metadata": {},
     "output_type": "execute_result"
    }
   ],
   "source": [
    "df1['Belliard Remard (B008)']"
   ]
  },
  {
   "cell_type": "markdown",
   "metadata": {},
   "source": [
    "### Data manipulation\n",
    "\n",
    "The plot the different concentration measurements vs. year, we will need the concentrations as columns an the locations as rows. "
   ]
  },
  {
   "cell_type": "code",
   "execution_count": 14,
   "metadata": {},
   "outputs": [],
   "source": [
    "df1 = df1.reset_index()"
   ]
  },
  {
   "cell_type": "code",
   "execution_count": 15,
   "metadata": {},
   "outputs": [],
   "source": [
    "df1 = df1.iloc[:39]"
   ]
  },
  {
   "cell_type": "code",
   "execution_count": 9,
   "metadata": {},
   "outputs": [],
   "source": [
    "#df1.rename(columns={'index':'measure'}, inplace=True)"
   ]
  },
  {
   "cell_type": "code",
   "execution_count": 16,
   "metadata": {
    "collapsed": true
   },
   "outputs": [
    {
     "name": "stdout",
     "output_type": "stream",
     "text": [
      "<class 'pandas.core.frame.DataFrame'>\n",
      "RangeIndex: 39 entries, 0 to 38\n",
      "Data columns (total 14 columns):\n",
      "index                        39 non-null object\n",
      "Année                        39 non-null float64\n",
      "Molenbeek (R001)             39 non-null float64\n",
      "Ixelles\n",
      "(R002)               39 non-null float64\n",
      "Ste-Catherine (B004)         39 non-null object\n",
      "Eastman-Belliard (B005)      39 non-null object\n",
      "Parlement européen (B006)    39 non-null object\n",
      "Belliard Remard (B008)       39 non-null object\n",
      "Berchem-Ste-Agathe (B011)    39 non-null float64\n",
      "Uccle\n",
      "(R012)                 39 non-null float64\n",
      "Haren\n",
      "(N043)                 39 non-null float64\n",
      "Parc Meudon (MEU1)           39 non-null object\n",
      "Woluwe \n",
      "St-Lambert (WOL1)    39 non-null float64\n",
      "Forest\n",
      "(E013)                39 non-null object\n",
      "dtypes: float64(7), object(7)\n",
      "memory usage: 4.3+ KB\n"
     ]
    }
   ],
   "source": [
    "df1.info()"
   ]
  },
  {
   "cell_type": "code",
   "execution_count": 17,
   "metadata": {},
   "outputs": [
    {
     "data": {
      "text/html": [
       "<div>\n",
       "<style scoped>\n",
       "    .dataframe tbody tr th:only-of-type {\n",
       "        vertical-align: middle;\n",
       "    }\n",
       "\n",
       "    .dataframe tbody tr th {\n",
       "        vertical-align: top;\n",
       "    }\n",
       "\n",
       "    .dataframe thead tr th {\n",
       "        text-align: left;\n",
       "    }\n",
       "\n",
       "    .dataframe thead tr:last-of-type th {\n",
       "        text-align: right;\n",
       "    }\n",
       "</style>\n",
       "<table border=\"1\" class=\"dataframe\">\n",
       "  <thead>\n",
       "    <tr>\n",
       "      <th></th>\n",
       "      <th></th>\n",
       "      <th colspan=\"3\" halign=\"left\">concentration</th>\n",
       "    </tr>\n",
       "    <tr>\n",
       "      <th></th>\n",
       "      <th>index</th>\n",
       "      <th>Concentration moyenne annuelle (µg/m3)</th>\n",
       "      <th>Nombre d'heures &gt; 200 µg/m3 (heures)a2</th>\n",
       "      <th>Part des jours &gt; 40 µg/m3 (%)a1</th>\n",
       "    </tr>\n",
       "    <tr>\n",
       "      <th>location</th>\n",
       "      <th>Année</th>\n",
       "      <th></th>\n",
       "      <th></th>\n",
       "      <th></th>\n",
       "    </tr>\n",
       "  </thead>\n",
       "  <tbody>\n",
       "    <tr>\n",
       "      <th rowspan=\"5\" valign=\"top\">Belliard Remard (B008)</th>\n",
       "      <th>2005.0</th>\n",
       "      <td>:x</td>\n",
       "      <td>:x</td>\n",
       "      <td>:x</td>\n",
       "    </tr>\n",
       "    <tr>\n",
       "      <th>2006.0</th>\n",
       "      <td>:x</td>\n",
       "      <td>:x</td>\n",
       "      <td>:x</td>\n",
       "    </tr>\n",
       "    <tr>\n",
       "      <th>2007.0</th>\n",
       "      <td>:x</td>\n",
       "      <td>:x</td>\n",
       "      <td>:x</td>\n",
       "    </tr>\n",
       "    <tr>\n",
       "      <th>2008.0</th>\n",
       "      <td>:x</td>\n",
       "      <td>:x</td>\n",
       "      <td>:x</td>\n",
       "    </tr>\n",
       "    <tr>\n",
       "      <th>2009.0</th>\n",
       "      <td>:x</td>\n",
       "      <td>:x</td>\n",
       "      <td>:x</td>\n",
       "    </tr>\n",
       "  </tbody>\n",
       "</table>\n",
       "</div>"
      ],
      "text/plain": [
       "                                                       concentration  \\\n",
       "index                         Concentration moyenne annuelle (µg/m3)   \n",
       "location               Année                                           \n",
       "Belliard Remard (B008) 2005.0                                     :x   \n",
       "                       2006.0                                     :x   \n",
       "                       2007.0                                     :x   \n",
       "                       2008.0                                     :x   \n",
       "                       2009.0                                     :x   \n",
       "\n",
       "                                                                      \\\n",
       "index                         Nombre d'heures > 200 µg/m3 (heures)a2   \n",
       "location               Année                                           \n",
       "Belliard Remard (B008) 2005.0                                     :x   \n",
       "                       2006.0                                     :x   \n",
       "                       2007.0                                     :x   \n",
       "                       2008.0                                     :x   \n",
       "                       2009.0                                     :x   \n",
       "\n",
       "                                                               \n",
       "index                         Part des jours > 40 µg/m3 (%)a1  \n",
       "location               Année                                   \n",
       "Belliard Remard (B008) 2005.0                              :x  \n",
       "                       2006.0                              :x  \n",
       "                       2007.0                              :x  \n",
       "                       2008.0                              :x  \n",
       "                       2009.0                              :x  "
      ]
     },
     "execution_count": 17,
     "metadata": {},
     "output_type": "execute_result"
    }
   ],
   "source": [
    "data = df1.melt(id_vars=['index', 'Année'], \n",
    "               value_vars= df1.columns[2:], \n",
    "               var_name='location', \n",
    "               value_name='concentration').pivot_table(index=['location', 'Année'], \n",
    "                                                       columns=['index'], \n",
    "                                                       aggfunc=lambda x:x)\n",
    "\n",
    "data.head()\n"
   ]
  },
  {
   "cell_type": "markdown",
   "metadata": {},
   "source": [
    "It is not clear to me why if I do first the melt and then the pivot_table it does not work. In that case the dataframe becomes a nontype object. "
   ]
  },
  {
   "cell_type": "code",
   "execution_count": 22,
   "metadata": {},
   "outputs": [
    {
     "name": "stdout",
     "output_type": "stream",
     "text": [
      "<class 'pandas.core.frame.DataFrame'>\n",
      "RangeIndex: 156 entries, 0 to 155\n",
      "Data columns (total 5 columns):\n",
      "location                                  156 non-null object\n",
      "Année                                     156 non-null float64\n",
      "Concentration moyenne annuelle (µg/m3)    156 non-null object\n",
      "Nombre d'heures > 200 µg/m3 (heures)a2    156 non-null object\n",
      "Part des jours > 40 µg/m3 (%)a1           156 non-null object\n",
      "dtypes: float64(1), object(4)\n",
      "memory usage: 6.2+ KB\n"
     ]
    }
   ],
   "source": [
    "data.info()"
   ]
  },
  {
   "cell_type": "code",
   "execution_count": 23,
   "metadata": {
    "collapsed": true
   },
   "outputs": [
    {
     "ename": "AttributeError",
     "evalue": "'Index' object has no attribute 'droplevel'",
     "output_type": "error",
     "traceback": [
      "\u001b[1;31m---------------------------------------------------------------------------\u001b[0m",
      "\u001b[1;31mAttributeError\u001b[0m                            Traceback (most recent call last)",
      "\u001b[1;32m<ipython-input-23-e7651e87803c>\u001b[0m in \u001b[0;36m<module>\u001b[1;34m()\u001b[0m\n\u001b[1;32m----> 1\u001b[1;33m \u001b[0mdata\u001b[0m\u001b[1;33m.\u001b[0m\u001b[0mcolumns\u001b[0m \u001b[1;33m=\u001b[0m \u001b[0mdata\u001b[0m\u001b[1;33m.\u001b[0m\u001b[0mcolumns\u001b[0m\u001b[1;33m.\u001b[0m\u001b[0mdroplevel\u001b[0m\u001b[1;33m(\u001b[0m\u001b[1;33m)\u001b[0m\u001b[1;33m\u001b[0m\u001b[0m\n\u001b[0m\u001b[0;32m      2\u001b[0m \u001b[0mdata\u001b[0m \u001b[1;33m=\u001b[0m \u001b[0mdata\u001b[0m\u001b[1;33m.\u001b[0m\u001b[0mreset_index\u001b[0m\u001b[1;33m(\u001b[0m\u001b[1;33m)\u001b[0m\u001b[1;33m\u001b[0m\u001b[0m\n\u001b[0;32m      3\u001b[0m \u001b[0mdata\u001b[0m\u001b[1;33m.\u001b[0m\u001b[0mhead\u001b[0m\u001b[1;33m(\u001b[0m\u001b[1;33m)\u001b[0m\u001b[1;33m\u001b[0m\u001b[0m\n",
      "\u001b[1;31mAttributeError\u001b[0m: 'Index' object has no attribute 'droplevel'"
     ]
    }
   ],
   "source": [
    "data.columns = data.columns.droplevel()\n",
    "data = data.reset_index()\n",
    "data.head()"
   ]
  },
  {
   "cell_type": "code",
   "execution_count": 24,
   "metadata": {},
   "outputs": [
    {
     "name": "stdout",
     "output_type": "stream",
     "text": [
      "<class 'pandas.core.frame.DataFrame'>\n",
      "RangeIndex: 156 entries, 0 to 155\n",
      "Data columns (total 5 columns):\n",
      "location                                  156 non-null object\n",
      "Année                                     156 non-null float64\n",
      "Concentration moyenne annuelle (µg/m3)    156 non-null object\n",
      "Nombre d'heures > 200 µg/m3 (heures)a2    156 non-null object\n",
      "Part des jours > 40 µg/m3 (%)a1           156 non-null object\n",
      "dtypes: float64(1), object(4)\n",
      "memory usage: 6.2+ KB\n"
     ]
    }
   ],
   "source": [
    "data.info()"
   ]
  },
  {
   "cell_type": "markdown",
   "metadata": {},
   "source": [
    " ### Cleaning data\n",
    " \n",
    " We need to remove the values that are NaN and transform the concentration measurements into numeric."
   ]
  },
  {
   "cell_type": "code",
   "execution_count": 26,
   "metadata": {},
   "outputs": [],
   "source": [
    "#I preferred to use replace than to_numeric \n",
    "\n",
    "#observing the unique names of the missing values\n",
    "data.columns[data.isna().sum()!=0]\n",
    "\n",
    "data = data[2:].replace([':', ':c', ':x'], 0)"
   ]
  },
  {
   "cell_type": "code",
   "execution_count": 21,
   "metadata": {},
   "outputs": [
    {
     "data": {
      "text/html": [
       "<div>\n",
       "<style scoped>\n",
       "    .dataframe tbody tr th:only-of-type {\n",
       "        vertical-align: middle;\n",
       "    }\n",
       "\n",
       "    .dataframe tbody tr th {\n",
       "        vertical-align: top;\n",
       "    }\n",
       "\n",
       "    .dataframe thead th {\n",
       "        text-align: right;\n",
       "    }\n",
       "</style>\n",
       "<table border=\"1\" class=\"dataframe\">\n",
       "  <thead>\n",
       "    <tr style=\"text-align: right;\">\n",
       "      <th>index</th>\n",
       "      <th>location</th>\n",
       "      <th>Année</th>\n",
       "      <th>Concentration moyenne annuelle (µg/m3)</th>\n",
       "      <th>Nombre d'heures &gt; 200 µg/m3 (heures)a2</th>\n",
       "      <th>Part des jours &gt; 40 µg/m3 (%)a1</th>\n",
       "    </tr>\n",
       "  </thead>\n",
       "  <tbody>\n",
       "    <tr>\n",
       "      <th>0</th>\n",
       "      <td>Belliard Remard (B008)</td>\n",
       "      <td>2005.0</td>\n",
       "      <td>:x</td>\n",
       "      <td>:x</td>\n",
       "      <td>:x</td>\n",
       "    </tr>\n",
       "    <tr>\n",
       "      <th>1</th>\n",
       "      <td>Belliard Remard (B008)</td>\n",
       "      <td>2006.0</td>\n",
       "      <td>:x</td>\n",
       "      <td>:x</td>\n",
       "      <td>:x</td>\n",
       "    </tr>\n",
       "    <tr>\n",
       "      <th>2</th>\n",
       "      <td>Belliard Remard (B008)</td>\n",
       "      <td>2007.0</td>\n",
       "      <td>:x</td>\n",
       "      <td>:x</td>\n",
       "      <td>:x</td>\n",
       "    </tr>\n",
       "    <tr>\n",
       "      <th>3</th>\n",
       "      <td>Belliard Remard (B008)</td>\n",
       "      <td>2008.0</td>\n",
       "      <td>:x</td>\n",
       "      <td>:x</td>\n",
       "      <td>:x</td>\n",
       "    </tr>\n",
       "    <tr>\n",
       "      <th>4</th>\n",
       "      <td>Belliard Remard (B008)</td>\n",
       "      <td>2009.0</td>\n",
       "      <td>:x</td>\n",
       "      <td>:x</td>\n",
       "      <td>:x</td>\n",
       "    </tr>\n",
       "  </tbody>\n",
       "</table>\n",
       "</div>"
      ],
      "text/plain": [
       "index                location   Année Concentration moyenne annuelle (µg/m3)  \\\n",
       "0      Belliard Remard (B008)  2005.0                                     :x   \n",
       "1      Belliard Remard (B008)  2006.0                                     :x   \n",
       "2      Belliard Remard (B008)  2007.0                                     :x   \n",
       "3      Belliard Remard (B008)  2008.0                                     :x   \n",
       "4      Belliard Remard (B008)  2009.0                                     :x   \n",
       "\n",
       "index Nombre d'heures > 200 µg/m3 (heures)a2 Part des jours > 40 µg/m3 (%)a1  \n",
       "0                                         :x                              :x  \n",
       "1                                         :x                              :x  \n",
       "2                                         :x                              :x  \n",
       "3                                         :x                              :x  \n",
       "4                                         :x                              :x  "
      ]
     },
     "execution_count": 21,
     "metadata": {},
     "output_type": "execute_result"
    }
   ],
   "source": [
    "data.head()"
   ]
  },
  {
   "cell_type": "code",
   "execution_count": 27,
   "metadata": {},
   "outputs": [
    {
     "name": "stdout",
     "output_type": "stream",
     "text": [
      "<class 'pandas.core.frame.DataFrame'>\n",
      "RangeIndex: 154 entries, 2 to 155\n",
      "Data columns (total 5 columns):\n",
      "location                                  154 non-null object\n",
      "Année                                     154 non-null float64\n",
      "Concentration moyenne annuelle (µg/m3)    154 non-null float64\n",
      "Nombre d'heures > 200 µg/m3 (heures)a2    154 non-null float64\n",
      "Part des jours > 40 µg/m3 (%)a1           154 non-null float64\n",
      "dtypes: float64(4), object(1)\n",
      "memory usage: 6.1+ KB\n"
     ]
    }
   ],
   "source": [
    "data.info()"
   ]
  },
  {
   "cell_type": "markdown",
   "metadata": {},
   "source": [
    "## Visualisation"
   ]
  },
  {
   "cell_type": "code",
   "execution_count": 29,
   "metadata": {},
   "outputs": [
    {
     "data": {
      "text/plain": [
       "<seaborn.axisgrid.FacetGrid at 0x14fbf553eb8>"
      ]
     },
     "execution_count": 29,
     "metadata": {},
     "output_type": "execute_result"
    },
    {
     "data": {
      "image/png": "[encoded data removed]",
      "text/plain": [
       "<Figure size 536.75x360 with 1 Axes>"
      ]
     },
     "metadata": {},
     "output_type": "display_data"
    }
   ],
   "source": [
    "sns.lmplot(data=data, x='Année', y=\"Concentration moyenne annuelle (µg/m3)\", hue='location', fit_reg=False)\n",
    "\n"
   ]
  },
  {
   "cell_type": "markdown",
   "metadata": {},
   "source": [
    "## Report\n",
    "\n",
    "- Belliard Remard presents the highest pollution values, overpassing 60 µg/m3 of NO2. Interestenly, the data from the last two years was labelled as confidential.\n",
    "- Ixelles is in a second pollution position, with levels between 50- 60 µg/m3 of NO2. \n",
    "- Most locations rank between thirty and fifty µg/m3 of NO2.\n",
    "- Uccle is the cleanest location, with levels between tween and fifty µg/m3 of NO2, and Berchem- Ste. Agathe is the second cleanest.\n",
    "\n",
    "To better see the trends, let's do a further visualization."
   ]
  },
  {
   "cell_type": "markdown",
   "metadata": {},
   "source": [
    "### Trying another method to manipulate the data \n",
    "\n",
    "We cut the original dataframe in chuncks, each according to the concentration measurement."
   ]
  },
  {
   "cell_type": "code",
   "execution_count": 37,
   "metadata": {},
   "outputs": [
    {
     "data": {
      "text/plain": [
       "(13, 14)"
      ]
     },
     "execution_count": 37,
     "metadata": {},
     "output_type": "execute_result"
    }
   ],
   "source": [
    "decir = df1[df1['index'] == 'Concentration moyenne annuelle (µg/m3)']\n",
    "\n",
    "decir.shape"
   ]
  },
  {
   "cell_type": "code",
   "execution_count": 38,
   "metadata": {
    "collapsed": true
   },
   "outputs": [
    {
     "name": "stdout",
     "output_type": "stream",
     "text": [
      "<class 'pandas.core.frame.DataFrame'>\n",
      "Int64Index: 13 entries, 0 to 36\n",
      "Data columns (total 14 columns):\n",
      "index                        13 non-null object\n",
      "Année                        13 non-null float64\n",
      "Molenbeek (R001)             13 non-null float64\n",
      "Ixelles\n",
      "(R002)               13 non-null float64\n",
      "Ste-Catherine (B004)         13 non-null object\n",
      "Eastman-Belliard (B005)      13 non-null object\n",
      "Parlement européen (B006)    13 non-null object\n",
      "Belliard Remard (B008)       13 non-null object\n",
      "Berchem-Ste-Agathe (B011)    13 non-null float64\n",
      "Uccle\n",
      "(R012)                 13 non-null float64\n",
      "Haren\n",
      "(N043)                 13 non-null float64\n",
      "Parc Meudon (MEU1)           13 non-null object\n",
      "Woluwe \n",
      "St-Lambert (WOL1)    13 non-null float64\n",
      "Forest\n",
      "(E013)                13 non-null object\n",
      "dtypes: float64(7), object(7)\n",
      "memory usage: 1.5+ KB\n"
     ]
    }
   ],
   "source": [
    "decir.info()"
   ]
  },
  {
   "cell_type": "code",
   "execution_count": 39,
   "metadata": {},
   "outputs": [
    {
     "data": {
      "text/plain": [
       "(11, 14)"
      ]
     },
     "execution_count": 39,
     "metadata": {},
     "output_type": "execute_result"
    }
   ],
   "source": [
    "decir = decir[2:].replace([':', ':c', ':x'], 0)\n",
    "\n",
    "decir.shape"
   ]
  },
  {
   "cell_type": "markdown",
   "metadata": {},
   "source": [
    "It is interesting that we have lost two rows.  Zero values could be inputed to the median."
   ]
  },
  {
   "cell_type": "markdown",
   "metadata": {},
   "source": [
    "### Visualizing trends"
   ]
  },
  {
   "cell_type": "code",
   "execution_count": 40,
   "metadata": {},
   "outputs": [
    {
     "data": {
      "image/png": "[encoded data removed]",
      "text/plain": [
       "<Figure size 360x360 with 1 Axes>"
      ]
     },
     "metadata": {},
     "output_type": "display_data"
    },
    {
     "data": {
      "image/png": "[encoded data removed]",
      "text/plain": [
       "<Figure size 360x360 with 1 Axes>"
      ]
     },
     "metadata": {},
     "output_type": "display_data"
    },
    {
     "data": {
      "image/png": "[encoded data removed]",
      "text/plain": [
       "<Figure size 360x360 with 1 Axes>"
      ]
     },
     "metadata": {},
     "output_type": "display_data"
    },
    {
     "data": {
      "image/png": "[encoded data removed]",
      "text/plain": [
       "<Figure size 360x360 with 1 Axes>"
      ]
     },
     "metadata": {},
     "output_type": "display_data"
    },
    {
     "data": {
      "image/png": "[encoded data removed]",
      "text/plain": [
       "<Figure size 360x360 with 1 Axes>"
      ]
     },
     "metadata": {},
     "output_type": "display_data"
    },
    {
     "data": {
      "image/png": "[encoded data removed]",
      "text/plain": [
       "<Figure size 360x360 with 1 Axes>"
      ]
     },
     "metadata": {},
     "output_type": "display_data"
    },
    {
     "data": {
      "image/png": "[encoded data removed]",
      "text/plain": [
       "<Figure size 360x360 with 1 Axes>"
      ]
     },
     "metadata": {},
     "output_type": "display_data"
    },
    {
     "data": {
      "image/png": "[encoded data removed]",
      "text/plain": [
       "<Figure size 360x360 with 1 Axes>"
      ]
     },
     "metadata": {},
     "output_type": "display_data"
    },
    {
     "data": {
      "image/png": "[encoded data removed]",
      "text/plain": [
       "<Figure size 360x360 with 1 Axes>"
      ]
     },
     "metadata": {},
     "output_type": "display_data"
    },
    {
     "data": {
      "image/png": "[encoded data removed]",
      "text/plain": [
       "<Figure size 360x360 with 1 Axes>"
      ]
     },
     "metadata": {},
     "output_type": "display_data"
    },
    {
     "data": {
      "image/png": "[encoded data removed]",
      "text/plain": [
       "<Figure size 360x360 with 1 Axes>"
      ]
     },
     "metadata": {},
     "output_type": "display_data"
    },
    {
     "data": {
      "image/png": "[encoded data removed]",
      "text/plain": [
       "<Figure size 360x360 with 1 Axes>"
      ]
     },
     "metadata": {},
     "output_type": "display_data"
    }
   ],
   "source": [
    " list = ['Molenbeek (R001)', 'Ixelles\\n(R002)',\n",
    "       'Ste-Catherine (B004)', 'Eastman-Belliard (B005)',\n",
    "       'Parlement européen (B006)', 'Belliard Remard (B008)',\n",
    "       'Berchem-Ste-Agathe (B011)', 'Uccle\\n(R012)', 'Haren\\n(N043)',\n",
    "       'Parc Meudon (MEU1)', 'Woluwe \\nSt-Lambert (WOL1)', 'Forest\\n(E013)']\n",
    "\n",
    "for y in list: \n",
    "    sns.lmplot(data=decir, x=\"Année\", y=y, fit_reg=False)"
   ]
  },
  {
   "cell_type": "code",
   "execution_count": null,
   "metadata": {},
   "outputs": [],
   "source": []
  },
  {
   "cell_type": "code",
   "execution_count": null,
   "metadata": {
    "scrolled": true
   },
   "outputs": [],
   "source": []
  },
  {
   "cell_type": "code",
   "execution_count": null,
   "metadata": {
    "scrolled": true
   },
   "outputs": [],
   "source": []
  },
  {
   "cell_type": "code",
   "execution_count": null,
   "metadata": {},
   "outputs": [],
   "source": []
  },
  {
   "cell_type": "code",
   "execution_count": null,
   "metadata": {},
   "outputs": [],
   "source": []
  },
  {
   "cell_type": "code",
   "execution_count": null,
   "metadata": {},
   "outputs": [],
   "source": []
  },
  {
   "cell_type": "code",
   "execution_count": null,
   "metadata": {},
   "outputs": [],
   "source": []
  },
  {
   "cell_type": "code",
   "execution_count": 41,
   "metadata": {
    "collapsed": true
   },
   "outputs": [
    {
     "ename": "IndentationError",
     "evalue": "unexpected indent (<ipython-input-41-02a3c32d3397>, line 6)",
     "output_type": "error",
     "traceback": [
      "\u001b[1;36m  File \u001b[1;32m\"<ipython-input-41-02a3c32d3397>\"\u001b[1;36m, line \u001b[1;32m6\u001b[0m\n\u001b[1;33m    no2.reset_index()\u001b[0m\n\u001b[1;37m    ^\u001b[0m\n\u001b[1;31mIndentationError\u001b[0m\u001b[1;31m:\u001b[0m unexpected indent\n"
     ]
    }
   ],
   "source": [
    "#Trial coding\n",
    "\n",
    "no2 = df1.T\n",
    "no2.columns= no2.iloc[0]\n",
    "no2.columns.unique()\n",
    " no2.reset_index()"
   ]
  }
 ],
 "metadata": {
  "kernelspec": {
   "display_name": "Python 3",
   "language": "python",
   "name": "python3"
  },
  "language_info": {
   "codemirror_mode": {
    "name": "ipython",
    "version": 3
   },
   "file_extension": ".py",
   "mimetype": "text/x-python",
   "name": "python",
   "nbconvert_exporter": "python",
   "pygments_lexer": "ipython3",
   "version": "3.6.5"
  }
 },
 "nbformat": 4,
 "nbformat_minor": 2
}
